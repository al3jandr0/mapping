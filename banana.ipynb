{
 "cells": [
  {
   "cell_type": "code",
   "execution_count": 1,
   "id": "d5bf415d-b3ee-4dba-82e3-3fe7d4d0e7be",
   "metadata": {},
   "outputs": [],
   "source": [
    "#pip install pyogrio numpy geopandas shapely matplotlib geodatasets"
   ]
  },
  {
   "cell_type": "code",
   "execution_count": 2,
   "id": "56ec897e-17c1-4bd8-8d9e-b123f88f5ef1",
   "metadata": {},
   "outputs": [],
   "source": [
    "import shapely\n",
    "from shapely import Point\n",
    "import geopandas\n",
    "from geopandas import GeoSeries, GeoDataFrame\n",
    "from geopandas import read_file\n",
    "from geodatasets import get_path\n",
    "import pyogrio\n",
    "from pyogrio import read_dataframe, list_drivers, read_info, write_dataframe\n",
    "from matplotlib import pyplot"
   ]
  },
  {
   "cell_type": "code",
   "execution_count": 3,
   "id": "926a162b-7e1d-4a2d-becd-3d9ed7801457",
   "metadata": {},
   "outputs": [
    {
     "data": {
      "text/html": [
       "<div>\n",
       "<style scoped>\n",
       "    .dataframe tbody tr th:only-of-type {\n",
       "        vertical-align: middle;\n",
       "    }\n",
       "\n",
       "    .dataframe tbody tr th {\n",
       "        vertical-align: top;\n",
       "    }\n",
       "\n",
       "    .dataframe thead th {\n",
       "        text-align: right;\n",
       "    }\n",
       "</style>\n",
       "<table border=\"1\" class=\"dataframe\">\n",
       "  <thead>\n",
       "    <tr style=\"text-align: right;\">\n",
       "      <th></th>\n",
       "      <th>name</th>\n",
       "      <th>centroids</th>\n",
       "      <th>radius</th>\n",
       "      <th>geometry</th>\n",
       "    </tr>\n",
       "  </thead>\n",
       "  <tbody>\n",
       "    <tr>\n",
       "      <th>0</th>\n",
       "      <td>A</td>\n",
       "      <td>POINT (-87789 41976)</td>\n",
       "      <td>80</td>\n",
       "      <td>POLYGON ((-87709 41976, -87709.385 41968.159, ...</td>\n",
       "    </tr>\n",
       "    <tr>\n",
       "      <th>1</th>\n",
       "      <td>B</td>\n",
       "      <td>POINT (-87482 41677)</td>\n",
       "      <td>20</td>\n",
       "      <td>POLYGON ((-87462 41677, -87462.096 41675.04, -...</td>\n",
       "    </tr>\n",
       "    <tr>\n",
       "      <th>2</th>\n",
       "      <td>C</td>\n",
       "      <td>POINT (-87599 41908)</td>\n",
       "      <td>30</td>\n",
       "      <td>POLYGON ((-87569 41908, -87569.144 41905.059, ...</td>\n",
       "    </tr>\n",
       "    <tr>\n",
       "      <th>3</th>\n",
       "      <td>D</td>\n",
       "      <td>POINT (-87598 41708)</td>\n",
       "      <td>40</td>\n",
       "      <td>POLYGON ((-87558 41708, -87558.193 41704.079, ...</td>\n",
       "    </tr>\n",
       "    <tr>\n",
       "      <th>4</th>\n",
       "      <td>E</td>\n",
       "      <td>POINT (-87643 41675)</td>\n",
       "      <td>50</td>\n",
       "      <td>POLYGON ((-87593 41675, -87593.241 41670.099, ...</td>\n",
       "    </tr>\n",
       "  </tbody>\n",
       "</table>\n",
       "</div>"
      ],
      "text/plain": [
       "  name             centroids  radius  \\\n",
       "0    A  POINT (-87789 41976)      80   \n",
       "1    B  POINT (-87482 41677)      20   \n",
       "2    C  POINT (-87599 41908)      30   \n",
       "3    D  POINT (-87598 41708)      40   \n",
       "4    E  POINT (-87643 41675)      50   \n",
       "\n",
       "                                            geometry  \n",
       "0  POLYGON ((-87709 41976, -87709.385 41968.159, ...  \n",
       "1  POLYGON ((-87462 41677, -87462.096 41675.04, -...  \n",
       "2  POLYGON ((-87569 41908, -87569.144 41905.059, ...  \n",
       "3  POLYGON ((-87558 41708, -87558.193 41704.079, ...  \n",
       "4  POLYGON ((-87593 41675, -87593.241 41670.099, ...  "
      ]
     },
     "execution_count": 3,
     "metadata": {},
     "output_type": "execute_result"
    }
   ],
   "source": [
    "espg = 'EPSG:26918'\n",
    "c = 1000\n",
    "namesArr = ['A','B','C','D','E']\n",
    "radiusArr = [80, 20, 30, 40, 50]\n",
    "pointsArr = [Point(c*-87.789,c*41.976), Point(c*-87.482,c*41.677), Point(c*-87.599,c*41.908), Point(c*-87.598,c*41.708), Point(c*-87.643,c*41.675)]\n",
    "circlesArr = [p.buffer(r) for p, r in zip(pointsArr, radiusArr)]\n",
    "pointsDf = geopandas.GeoDataFrame({'name': ['A','B','C','D','E']}, geometry=pointsArr, crs='EPSG:26918')\n",
    "circlesDf = geopandas.GeoDataFrame({'name': namesArr, 'centroids': pointsArr, 'radius': radiusArr}, geometry=circlesArr, crs=espg)\n",
    "circlesDf"
   ]
  },
  {
   "cell_type": "code",
   "execution_count": 4,
   "id": "15f6d816-e523-4e1e-b035-a415900b2f2e",
   "metadata": {},
   "outputs": [
    {
     "data": {
      "image/png": "[encoded data removed]",
      "text/plain": [
       "<Figure size 640x480 with 1 Axes>"
      ]
     },
     "metadata": {},
     "output_type": "display_data"
    }
   ],
   "source": [
    "pyplot.close()\n",
    "fig, ax = pyplot.subplots()\n",
    "#fig, ax = pyplot.subplots()\n",
    "\n",
    "#a = circlesDf.head().plot(ax=ax, markersize=1)\n",
    "\n",
    "circlesDf.to_crs(espg).plot(ax=ax, markersize=1, color='blue')\n",
    "pointsDf.plot(ax=ax, markersize=1, color='red')\n",
    "pyplot.show()"
   ]
  },
  {
   "cell_type": "code",
   "execution_count": null,
   "id": "51969d9c-23db-4f21-83a0-5b712a8def22",
   "metadata": {},
   "outputs": [],
   "source": []
  }
 ],
 "metadata": {
  "kernelspec": {
   "display_name": ".venv",
   "language": "python",
   "name": ".venv"
  },
  "language_info": {
   "codemirror_mode": {
    "name": "ipython",
    "version": 3
   },
   "file_extension": ".py",
   "mimetype": "text/x-python",
   "name": "python",
   "nbconvert_exporter": "python",
   "pygments_lexer": "ipython3",
   "version": "3.9.2"
  }
 },
 "nbformat": 4,
 "nbformat_minor": 5
}
