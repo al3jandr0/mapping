{
 "cells": [
  {
   "cell_type": "code",
   "execution_count": 1,
   "id": "4e96828b-25ac-4866-991d-baa86a60d61e",
   "metadata": {},
   "outputs": [],
   "source": [
    "#pip install mpl_toolkits"
   ]
  },
  {
   "cell_type": "code",
   "execution_count": 2,
   "id": "6840eba1-f0ef-4c54-88cb-90e9232ed5fd",
   "metadata": {},
   "outputs": [],
   "source": [
    "import random\n",
    "import shapely\n",
    "from shapely import Point\n",
    "import geopandas\n",
    "from geopandas import GeoSeries, GeoDataFrame\n",
    "from geopandas import read_file\n",
    "from geodatasets import get_path\n",
    "import pyogrio\n",
    "from pyogrio import read_dataframe, list_drivers, read_info, write_dataframe\n",
    "from matplotlib import pyplot"
   ]
  },
  {
   "cell_type": "code",
   "execution_count": 3,
   "id": "4708c576-7a0f-4383-81be-f8e982632aa5",
   "metadata": {},
   "outputs": [],
   "source": [
    "# CONSTANTS\n",
    "\n",
    "# Google Maps is in a projected coordinate system that is based on the wgs84 datum. (EPSG 3857)\n",
    "# This projection is in meters, so when setting buffer while in this projection, the units will be meters\n",
    "# wich is what google uses\n",
    "# sf.to_crs(3857)\n",
    "# https://stackoverflow.com/questions/72073417/userwarning-geometry-is-in-a-geographic-crs-results-from-buffer-are-likely-i\n",
    "PROJECTION_EPSG = 3857\n",
    "PROJECTION = 'EPSG:' + str(PROJECTION_EPSG)\n",
    "\n",
    "# Transforming shapely objects (not in dataframes) between projections\n",
    "# https://gis.stackexchange.com/questions/127427/transforming-shapely-polygon-and-multipolygon-objects\n",
    "\n",
    "#import pyproj\n",
    "#from shapely.geometry import Point\n",
    "#from shapely.ops import transform\n",
    "\n",
    "#wgs84_pt = Point(-72.2495, 43.886)\n",
    "#wgs84 = pyproj.CRS('EPSG:4326')\n",
    "#utm = pyproj.CRS('EPSG:32618')\n",
    "#project = pyproj.Transformer.from_crs(wgs84, utm, always_xy=True).transform\n",
    "#utm_point = transform(project, wgs84_pt)"
   ]
  },
  {
   "cell_type": "code",
   "execution_count": 4,
   "id": "2e16c27a-3dbd-43b6-9a68-b827811e1490",
   "metadata": {},
   "outputs": [],
   "source": [
    "# Manhattan map background\n",
    "# 'crs': 'EPSG:2263', 'encoding': 'ISO-8859-1'\n",
    "manhattanMap = read_dataframe(get_path(\"nybb\"), where=\"BoroName IN ('Manhattan')\").to_crs(PROJECTION)"
   ]
  },
  {
   "cell_type": "code",
   "execution_count": 5,
   "id": "eeda9aa0-e1a1-4765-9fd5-04e04a5b403d",
   "metadata": {},
   "outputs": [
    {
     "data": {
      "text/plain": [
       "0    POINT (-8233984.803 4979551.765)\n",
       "dtype: geometry"
      ]
     },
     "execution_count": 5,
     "metadata": {},
     "output_type": "execute_result"
    }
   ],
   "source": [
    "manhattanMap.centroid"
   ]
  },
  {
   "cell_type": "code",
   "execution_count": 70,
   "id": "2cedb9fa-177f-4835-aab5-8b76768424b1",
   "metadata": {},
   "outputs": [],
   "source": [
    "# Inital condition\n",
    "STATING_POINT_LAT = 40.776676\n",
    "STARTING_POINT_LONG = -73.971321\n",
    "\n",
    "# 750ft is roughly the length of an nyc block (betweem avenues)\n",
    "# Lets start with a radious of 750 / 2 such that a circle covers at least 1 block\n",
    "# Later on, experiements will tell whats a good starting size\n",
    "# Goole maps works distances in meeters, and the limit radius on the nearby search is\n",
    "# 50,000 meters. https://developers.google.com/maps/documentation/javascript/nearby-search\n",
    "\n",
    "# Half lenght of a NYC block\n",
    "RADIUS_METERS = 115\n",
    "\n",
    "#starting_point_lat  = random.gauss(mu=STATING_POINT_LAT, sigma=0.05)\n",
    "starting_point_lat  = STATING_POINT_LAT\n",
    "#starting_point_long = random.gauss(mu=STARTING_POINT_LONG, sigma=0.05)\n",
    "starting_point_long = STARTING_POINT_LONG\n",
    "\n",
    "starting_point = Point(starting_point_lat, starting_point_long)\n",
    "\n",
    "# TODO: fix variance point\n",
    "\n",
    "starting_point = Point(manhattanMap.centroid.x, manhattanMap.centroid.y)\n",
    "starting_circle = starting_point.buffer(RADIUS_METERS)\n",
    "\n",
    "pointsDf = geopandas.GeoDataFrame({'name': ['1']},   \n",
    "                                  geometry=[starting_point], \n",
    "                                  crs=PROJECTION)\n",
    "\n",
    "second_point = Point(starting_point.x + RADIUS_METERS * 2, starting_point.y)\n",
    "second_circle = Point(starting_point.x + RADIUS_METERS * 2, starting_point.y).buffer(RADIUS_METERS)\n",
    "\n",
    "\n",
    "pointSeries = GeoSeries([starting_point, second_point])\n",
    "circleSeries = geopandas.GeoSeries([starting_point.buffer(RADIUS_METERS), second_point.buffer(RADIUS_METERS)])\n",
    "\n",
    "pointsArr = [starting_point, second_point]\n",
    "radiusArr = [RADIUS_METERS, RADIUS_METERS]\n",
    "circlesArr = [p.buffer(r) for p, r in zip(pointsArr, radiusArr)]\n",
    "\n",
    "circlesDf = geopandas.GeoDataFrame({'name': ['1', '2'], \n",
    "                                   'centroid': pointsArr, \n",
    "                                   'radius': radiusArr}, \n",
    "                                  geometry=GeoSeries(circlesArr),\n",
    "                                  crs=PROJECTION)\n",
    "\n"
   ]
  },
  {
   "cell_type": "code",
   "execution_count": 71,
   "id": "90a20b74-ca19-4f62-8730-0e3689b909a2",
   "metadata": {},
   "outputs": [
    {
     "data": {
      "text/plain": [
       "(40.776676, -73.971321)"
      ]
     },
     "execution_count": 71,
     "metadata": {},
     "output_type": "execute_result"
    }
   ],
   "source": [
    "(starting_point_lat, starting_point_long)"
   ]
  },
  {
   "cell_type": "code",
   "execution_count": 72,
   "id": "84a19739-0dc2-423f-bd80-55793b847897",
   "metadata": {},
   "outputs": [
    {
     "data": {
      "text/html": [
       "<div>\n",
       "<style scoped>\n",
       "    .dataframe tbody tr th:only-of-type {\n",
       "        vertical-align: middle;\n",
       "    }\n",
       "\n",
       "    .dataframe tbody tr th {\n",
       "        vertical-align: top;\n",
       "    }\n",
       "\n",
       "    .dataframe thead th {\n",
       "        text-align: right;\n",
       "    }\n",
       "</style>\n",
       "<table border=\"1\" class=\"dataframe\">\n",
       "  <thead>\n",
       "    <tr style=\"text-align: right;\">\n",
       "      <th></th>\n",
       "      <th>name</th>\n",
       "      <th>geometry</th>\n",
       "    </tr>\n",
       "  </thead>\n",
       "  <tbody>\n",
       "    <tr>\n",
       "      <th>0</th>\n",
       "      <td>1</td>\n",
       "      <td>POINT (-8233984.803 4979551.765)</td>\n",
       "    </tr>\n",
       "  </tbody>\n",
       "</table>\n",
       "</div>"
      ],
      "text/plain": [
       "  name                          geometry\n",
       "0    1  POINT (-8233984.803 4979551.765)"
      ]
     },
     "execution_count": 72,
     "metadata": {},
     "output_type": "execute_result"
    }
   ],
   "source": [
    "pointsDf"
   ]
  },
  {
   "cell_type": "code",
   "execution_count": 73,
   "id": "7f7b7910-e6fe-4f90-974f-56c88e926a7f",
   "metadata": {},
   "outputs": [
    {
     "data": {
      "text/html": [
       "<div>\n",
       "<style scoped>\n",
       "    .dataframe tbody tr th:only-of-type {\n",
       "        vertical-align: middle;\n",
       "    }\n",
       "\n",
       "    .dataframe tbody tr th {\n",
       "        vertical-align: top;\n",
       "    }\n",
       "\n",
       "    .dataframe thead th {\n",
       "        text-align: right;\n",
       "    }\n",
       "</style>\n",
       "<table border=\"1\" class=\"dataframe\">\n",
       "  <thead>\n",
       "    <tr style=\"text-align: right;\">\n",
       "      <th></th>\n",
       "      <th>BoroCode</th>\n",
       "      <th>BoroName</th>\n",
       "      <th>Shape_Leng</th>\n",
       "      <th>Shape_Area</th>\n",
       "      <th>geometry</th>\n",
       "    </tr>\n",
       "  </thead>\n",
       "  <tbody>\n",
       "    <tr>\n",
       "      <th>0</th>\n",
       "      <td>1</td>\n",
       "      <td>Manhattan</td>\n",
       "      <td>359299.096471</td>\n",
       "      <td>6.364715e+08</td>\n",
       "      <td>MULTIPOLYGON (((-8238858.864 4965915.024, -823...</td>\n",
       "    </tr>\n",
       "  </tbody>\n",
       "</table>\n",
       "</div>"
      ],
      "text/plain": [
       "   BoroCode   BoroName     Shape_Leng    Shape_Area  \\\n",
       "0         1  Manhattan  359299.096471  6.364715e+08   \n",
       "\n",
       "                                            geometry  \n",
       "0  MULTIPOLYGON (((-8238858.864 4965915.024, -823...  "
      ]
     },
     "execution_count": 73,
     "metadata": {},
     "output_type": "execute_result"
    }
   ],
   "source": [
    "manhattanMap"
   ]
  },
  {
   "cell_type": "code",
   "execution_count": 74,
   "id": "5f7e796c-7284-468c-ae9e-b09d0392b747",
   "metadata": {},
   "outputs": [
    {
     "data": {
      "text/html": [
       "<div>\n",
       "<style scoped>\n",
       "    .dataframe tbody tr th:only-of-type {\n",
       "        vertical-align: middle;\n",
       "    }\n",
       "\n",
       "    .dataframe tbody tr th {\n",
       "        vertical-align: top;\n",
       "    }\n",
       "\n",
       "    .dataframe thead th {\n",
       "        text-align: right;\n",
       "    }\n",
       "</style>\n",
       "<table border=\"1\" class=\"dataframe\">\n",
       "  <thead>\n",
       "    <tr style=\"text-align: right;\">\n",
       "      <th></th>\n",
       "      <th>name</th>\n",
       "      <th>centroid</th>\n",
       "      <th>radius</th>\n",
       "      <th>geometry</th>\n",
       "    </tr>\n",
       "  </thead>\n",
       "  <tbody>\n",
       "    <tr>\n",
       "      <th>0</th>\n",
       "      <td>1</td>\n",
       "      <td>POINT (-8233984.803297205 4979551.76476831)</td>\n",
       "      <td>115</td>\n",
       "      <td>POLYGON ((-8233869.803 4979551.765, -8233870.3...</td>\n",
       "    </tr>\n",
       "    <tr>\n",
       "      <th>1</th>\n",
       "      <td>2</td>\n",
       "      <td>POINT (-8233754.803297205 4979551.76476831)</td>\n",
       "      <td>115</td>\n",
       "      <td>POLYGON ((-8233639.803 4979551.765, -8233640.3...</td>\n",
       "    </tr>\n",
       "  </tbody>\n",
       "</table>\n",
       "</div>"
      ],
      "text/plain": [
       "  name                                     centroid  radius  \\\n",
       "0    1  POINT (-8233984.803297205 4979551.76476831)     115   \n",
       "1    2  POINT (-8233754.803297205 4979551.76476831)     115   \n",
       "\n",
       "                                            geometry  \n",
       "0  POLYGON ((-8233869.803 4979551.765, -8233870.3...  \n",
       "1  POLYGON ((-8233639.803 4979551.765, -8233640.3...  "
      ]
     },
     "execution_count": 74,
     "metadata": {},
     "output_type": "execute_result"
    }
   ],
   "source": [
    "circlesDf"
   ]
  },
  {
   "cell_type": "code",
   "execution_count": 77,
   "id": "8c23068d-ca82-4131-9c08-617c9fa47a61",
   "metadata": {},
   "outputs": [
    {
     "data": {
      "image/png": "[encoded data removed]",
      "text/plain": [
       "<Figure size 640x480 with 1 Axes>"
      ]
     },
     "metadata": {},
     "output_type": "display_data"
    }
   ],
   "source": [
    "# Plotting\n",
    "pyplot.close()\n",
    "#pyplot.figure(figsize=(20, 24))\n",
    "\n",
    "#minx, miny, maxx, maxy = manhattanMap.total_bounds\n",
    "#ax.set_xlim(minx, maxx)\n",
    "#ax.set_ylim(miny, maxy)\n",
    "\n",
    "base = None\n",
    "#base = manhattanMap.plot(figsize=(20, 24), alpha=0.5, edgecolor='black', color='lightblue')\n",
    "#manhattanMap.boundary.plot(ax=ax)\n",
    "if(base):\n",
    "    ax = circlesDf.to_crs(PROJECTION).plot(ax=base, markersize=1, color='blue')\n",
    "else:\n",
    "    ax = circlesDf.to_crs(PROJECTION).plot( markersize=1, color='blue')\n",
    "circlesDf.centroid.plot(ax=ax, markersize=1, color='red')\n",
    "ax.set_axis_off()\n",
    "\n",
    "# can you print centers from the circles centroids?\n",
    "\n",
    "# Ensure tight layout\n",
    "pyplot.tight_layout()\n",
    "\n",
    "# Display the plot\n",
    "pyplot.show()"
   ]
  },
  {
   "cell_type": "code",
   "execution_count": null,
   "id": "5d452ff1-cf4b-4266-936a-ae531f10ab73",
   "metadata": {},
   "outputs": [],
   "source": [
    "# Keep adding to the same figure. I may need to research methods for that\n",
    "\n",
    "# Is the 3rd circle also a special case since the centroid is the same as the point where the 2 circles meet\n",
    "def compute_tangent_circle_centers_at_angle(centerA, R, angle_degrees):\n",
    "    \"\"\"\n",
    "    Compute the center of a circle of radius R that touches circleA,\n",
    "    positioned at a specific angle from centerA.\n",
    "    \n",
    "    Parameters:\n",
    "    centerA (Point): The center of circleA\n",
    "    R (float): The radius of all circles\n",
    "    angle_degrees (float): The angle in degrees from the positive x-axis\n",
    "    \n",
    "    Returns:\n",
    "    Point: The center of the tangent circle\n",
    "    \"\"\"\n",
    "    x, y = centerA.x, centerA.y\n",
    "    angle_radians = np.radians(angle_degrees)\n",
    "    \n",
    "    # When two circles of the same radius touch externally,\n",
    "    # their centers are exactly 2*R distance apart\n",
    "    distance = 2 * R\n",
    "    \n",
    "    # Calculate the new center coordinates\n",
    "    new_x = x + distance * np.cos(angle_radians)\n",
    "    new_y = y + distance * np.sin(angle_radians)\n",
    "    \n",
    "    return Point(new_x, new_y)\n"
   ]
  }
 ],
 "metadata": {
  "kernelspec": {
   "display_name": ".venv",
   "language": "python",
   "name": ".venv"
  },
  "language_info": {
   "codemirror_mode": {
    "name": "ipython",
    "version": 3
   },
   "file_extension": ".py",
   "mimetype": "text/x-python",
   "name": "python",
   "nbconvert_exporter": "python",
   "pygments_lexer": "ipython3",
   "version": "3.9.2"
  }
 },
 "nbformat": 4,
 "nbformat_minor": 5
}
